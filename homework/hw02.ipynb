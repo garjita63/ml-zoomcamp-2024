{
 "cells": [
  {
   "cell_type": "markdown",
   "id": "b6af3ec0-76ba-49df-a688-8a76ece5b98f",
   "metadata": {},
   "source": [
    "#### Machine Learning Zoomcamp\n",
    "# Homework Solution of Module-02 (Machine Learning for Regression)"
   ]
  },
  {
   "cell_type": "markdown",
   "id": "08e6c485-1c37-491c-a132-3f71a5458b78",
   "metadata": {},
   "source": [
    "### on progress..."
   ]
  },
  {
   "cell_type": "code",
   "execution_count": null,
   "id": "1e93d64e-fac7-4b41-a95a-1f3687af32b2",
   "metadata": {},
   "outputs": [],
   "source": []
  }
 ],
 "metadata": {
  "kernelspec": {
   "display_name": "Python 3 (ipykernel)",
   "language": "python",
   "name": "python3"
  },
  "language_info": {
   "codemirror_mode": {
    "name": "ipython",
    "version": 3
   },
   "file_extension": ".py",
   "mimetype": "text/x-python",
   "name": "python",
   "nbconvert_exporter": "python",
   "pygments_lexer": "ipython3",
   "version": "3.11.9"
  }
 },
 "nbformat": 4,
 "nbformat_minor": 5
}
