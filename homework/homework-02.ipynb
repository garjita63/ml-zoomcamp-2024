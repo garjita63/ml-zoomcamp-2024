{
 "cells": [
  {
   "cell_type": "code",
   "execution_count": 1,
   "id": "0395bfa2-a587-4d75-9e82-67637a6ec1c0",
   "metadata": {},
   "outputs": [],
   "source": [
    "data = 'https://raw.githubusercontent.com/alexeygrigorev/datasets/master/laptops.csv'"
   ]
  },
  {
   "cell_type": "code",
   "execution_count": 2,
   "id": "bc9d3313-b8f3-49ca-9890-26ff2bf00132",
   "metadata": {
    "scrolled": true
   },
   "outputs": [
    {
     "name": "stdout",
     "output_type": "stream",
     "text": [
      "--2024-10-05 14:00:05--  https://raw.githubusercontent.com/alexeygrigorev/datasets/master/laptops.csv\n",
      "Resolving raw.githubusercontent.com (raw.githubusercontent.com)... 185.199.110.133, 185.199.109.133, 185.199.108.133, ...\n",
      "Connecting to raw.githubusercontent.com (raw.githubusercontent.com)|185.199.110.133|:443... connected.\n",
      "HTTP request sent, awaiting response... 200 OK\n",
      "Length: 298573 (292K) [text/plain]\n",
      "Saving to: ‘/home/hduser/ml-zoomcamp/dataset/laptops.csv’\n",
      "\n",
      "laptops.csv         100%[===================>] 291.58K  --.-KB/s    in 0.1s    \n",
      "\n",
      "2024-10-05 14:00:06 (2.04 MB/s) - ‘/home/hduser/ml-zoomcamp/dataset/laptops.csv’ saved [298573/298573]\n",
      "\n"
     ]
    }
   ],
   "source": [
    "!rm -f /home/hduser/ml-zoomcamp/dataset/laptops.csv && wget -P /home/hduser/ml-zoomcamp/dataset $data"
   ]
  },
  {
   "cell_type": "code",
   "execution_count": 3,
   "id": "da6002e6-1ae2-43ed-97b6-e5b470d616cc",
   "metadata": {},
   "outputs": [],
   "source": [
    "import pandas as pd\n",
    "import numpy as np"
   ]
  },
  {
   "cell_type": "code",
   "execution_count": 4,
   "id": "a1b84a02-467b-4e40-b993-5bfda5186331",
   "metadata": {},
   "outputs": [],
   "source": [
    "df = pd.read_csv('../../dataset/laptops.csv')"
   ]
  },
  {
   "cell_type": "code",
   "execution_count": 5,
   "id": "4bc9a18f-80d1-4473-a2f9-8f4e1fcb2f7e",
   "metadata": {},
   "outputs": [],
   "source": [
    "df.columns = df.columns.str.lower().str.replace(' ', '_')"
   ]
  },
  {
   "cell_type": "code",
   "execution_count": 6,
   "id": "fc6f02ba-b158-466f-967b-69c5be327500",
   "metadata": {},
   "outputs": [
    {
     "data": {
      "text/plain": [
       "laptop           object\n",
       "status           object\n",
       "brand            object\n",
       "model            object\n",
       "cpu              object\n",
       "ram               int64\n",
       "storage           int64\n",
       "storage_type     object\n",
       "gpu              object\n",
       "screen          float64\n",
       "touch            object\n",
       "final_price     float64\n",
       "dtype: object"
      ]
     },
     "execution_count": 6,
     "metadata": {},
     "output_type": "execute_result"
    }
   ],
   "source": [
    "df.dtypes"
   ]
  },
  {
   "cell_type": "code",
   "execution_count": 7,
   "id": "56954db1-5b61-4a7a-a16e-83483986fb24",
   "metadata": {},
   "outputs": [
    {
     "name": "stdout",
     "output_type": "stream",
     "text": [
      "      ram  storage  screen  final_price\n",
      "0       8      512    15.6      1009.00\n",
      "1       8      256    15.6       299.00\n",
      "2       8      256    15.6       789.00\n",
      "3      16     1000    15.6      1199.00\n",
      "4      16      512    15.6       669.01\n",
      "...   ...      ...     ...          ...\n",
      "2155   16     1000    17.3      2699.99\n",
      "2156   16     1000    17.3      2899.99\n",
      "2157   32     1000    17.3      3399.99\n",
      "2158   16     1000    13.4      1899.99\n",
      "2159   16      256    13.4      1699.99\n",
      "\n",
      "[2160 rows x 4 columns]\n"
     ]
    }
   ],
   "source": [
    "df1 = df[['ram', 'storage', 'screen', 'final_price']]\n",
    "print(df1)"
   ]
  },
  {
   "cell_type": "markdown",
   "id": "1ca6b65e-aa8b-4ff5-946f-5a0223c9077b",
   "metadata": {},
   "source": [
    "## Question 1\n",
    "\n",
    "There's one column with missing values. What is it?\n",
    "\n",
    "- 'ram'\n",
    "- 'storage'\n",
    "- 'screen'\n",
    "- 'final_price'"
   ]
  },
  {
   "cell_type": "code",
   "execution_count": 8,
   "id": "93224e67-c623-4185-81e4-6f61e034f45c",
   "metadata": {},
   "outputs": [
    {
     "name": "stdout",
     "output_type": "stream",
     "text": [
      "Index(['screen'], dtype='object')\n"
     ]
    }
   ],
   "source": [
    "missing_values = df1[['ram', 'storage', 'screen', 'final_price']].isnull().sum()\n",
    "missing_columns = missing_values[missing_values > 0].index\n",
    "print(missing_columns)"
   ]
  },
  {
   "cell_type": "markdown",
   "id": "17c3b945-eeef-4bf6-bf9d-fcbf39825b9e",
   "metadata": {},
   "source": [
    "### Answer 1 : screen"
   ]
  },
  {
   "cell_type": "markdown",
   "id": "36247cf6-e213-4ae7-8b2f-e4cbed1a5d2a",
   "metadata": {},
   "source": [
    "## Question 2\n",
    "\n",
    "What's the median (50% percentile) for variable 'ram'?\n",
    "\n",
    "- 8\n",
    "- 16\n",
    "- 24\n",
    "- 32"
   ]
  },
  {
   "cell_type": "code",
   "execution_count": 9,
   "id": "e48c10ca-945f-494a-beb0-0e78df7b409f",
   "metadata": {},
   "outputs": [
    {
     "name": "stdout",
     "output_type": "stream",
     "text": [
      "16.0\n"
     ]
    }
   ],
   "source": [
    "median_ram = df1['ram'].median()\n",
    "print(median_ram)"
   ]
  },
  {
   "cell_type": "markdown",
   "id": "edb621d7-50ee-48ed-81dd-d651b09d40eb",
   "metadata": {},
   "source": [
    "### Answer 2: 16"
   ]
  },
  {
   "cell_type": "markdown",
   "id": "8996a081-b8e9-4adb-b2ac-49265bcc6eab",
   "metadata": {},
   "source": [
    "## Question 3\n",
    "\n",
    "- We need to deal with missing values for the column from Q1.\n",
    "- We have two options: fill it with 0 or with the mean of this variable.\n",
    "- Try both options. For each, train a linear regression model without regularization using the code from the lessons.\n",
    "- For computing the mean, use the training only!\n",
    "- Use the validation dataset to evaluate the models and compare the RMSE of each option.\n",
    "- Round the RMSE scores to 2 decimal digits using round(score, 2)\n",
    "- Which option gives better RMSE?\n",
    "\n",
    "Options:\n",
    "\n",
    "- With 0\n",
    "- With mean\n",
    "- Both are equally good"
   ]
  },
  {
   "cell_type": "code",
   "execution_count": 10,
   "id": "698e2c57-0d4a-4d18-8f87-7dcc5838fcaf",
   "metadata": {},
   "outputs": [
    {
     "name": "stdout",
     "output_type": "stream",
     "text": [
      "RMSE (filled with 0): 616.83\n",
      "RMSE (filled with mean): 617.13\n",
      "Filling with 0 is better.\n"
     ]
    }
   ],
   "source": [
    "from sklearn.model_selection import train_test_split\n",
    "from sklearn.linear_model import LinearRegression\n",
    "from sklearn.metrics import mean_squared_error\n",
    "from sklearn.metrics import mean_absolute_error\n",
    "from sklearn.metrics import r2_score\n",
    "from sklearn.metrics import mean_squared_log_error\n",
    "from sklearn.metrics import root_mean_squared_error\n",
    "\n",
    "# Step 1: Shuffle and split the dataset\n",
    "df_shuffled = df1.sample(frac=1, random_state=42)  # Shuffle the dataset with seed 42 for reproducibility\n",
    "train_val, test = train_test_split(df_shuffled, test_size=0.2, random_state=42)  # Split: 20% for testing\n",
    "train, val = train_test_split(train_val, test_size=0.25, random_state=42)  # 0.25 of train_val = 20% of total data\n",
    "\n",
    "# Defining X (features) and y (target) for each set\n",
    "X_train = train.drop(columns='final_price')  # Features for the training set\n",
    "y_train = train['final_price']  # Target for the training set\n",
    "X_val = val.drop(columns='final_price')  # Features for the validation set\n",
    "y_val = val['final_price']  # Target for the validation set\n",
    "X_test = test.drop(columns='final_price')  # Features for the test set\n",
    "y_test = test['final_price']  # Target for the test set\n",
    "\n",
    "# Step 2: Handle missing values in the 'screen' column\n",
    "\n",
    "# Option 1: Fill missing values with 0\n",
    "X_train_0 = X_train.fillna(0)  # Filling missing values in training set with 0\n",
    "X_val_0 = X_val.fillna(0)  # Filling missing values in validation set with 0\n",
    "\n",
    "# Option 2: Fill missing values with the mean (from the training set)\n",
    "mean_screen = X_train['screen'].mean()  # Calculate mean of 'screen' from the training set\n",
    "X_train_mean = X_train.fillna(mean_screen)  # Filling missing values in training set with mean\n",
    "X_val_mean = X_val.fillna(mean_screen)  # Filling missing values in validation set with mean\n",
    "\n",
    "# Step 3: Train linear regression model without regularization\n",
    "\n",
    "# Model for option 1 (fill with 0)\n",
    "model_0 = LinearRegression()  # Initialize Linear Regression model\n",
    "model_0.fit(X_train_0, y_train)  # Fit the model with training data (X_train_0, y_train)\n",
    "\n",
    "# Model for option 2 (fill with mean)\n",
    "model_mean = LinearRegression()  # Initialize another Linear Regression model\n",
    "model_mean.fit(X_train_mean, y_train)  # Fit the model with training data (X_train_mean, y_train)\n",
    "\n",
    "# Step 4: Evaluate the models on the validation set using RMSE\n",
    "\n",
    "# Predict and calculate RMSE for option 1 (fill with 0)\n",
    "y_pred_0 = model_0.predict(X_val_0)  # Predict final_price for the validation set (option 1)\n",
    "rmse_0 = root_mean_squared_error(y_val, y_pred_0)  # Calculate RMSE\n",
    "\n",
    "# Predict and calculate RMSE for option 2 (fill with mean)\n",
    "y_pred_mean = model_mean.predict(X_val_mean)  # Predict final_price for the validation set (option 2)\n",
    "rmse_mean = root_mean_squared_error(y_val, y_pred_mean)  # Calculate RMSE\n",
    "\n",
    "# Round RMSE results to 2 decimal places\n",
    "rmse_0 = round(rmse_0, 2)\n",
    "rmse_mean = round(rmse_mean, 2)\n",
    "\n",
    "# Print the RMSE results for both options\n",
    "print(f\"RMSE (filled with 0): {rmse_0}\")\n",
    "print(f\"RMSE (filled with mean): {rmse_mean}\")\n",
    "\n",
    "# Conclusion: Which option gives better RMSE\n",
    "if rmse_0 < rmse_mean:\n",
    "    print(\"Filling with 0 is better.\")\n",
    "elif rmse_mean < rmse_0:\n",
    "    print(\"Filling with mean is better.\")\n",
    "else:\n",
    "    print(\"Both options are equally good.\")\n"
   ]
  },
  {
   "cell_type": "markdown",
   "id": "5998f711-4301-42bf-b69b-3678ba4052d0",
   "metadata": {},
   "source": [
    "### Answer: With 0"
   ]
  },
  {
   "cell_type": "markdown",
   "id": "98c22e6f-5d63-4029-aa98-6ed0432a1e3d",
   "metadata": {},
   "source": [
    "## Question 4\n",
    "\n",
    "- Now let's train a regularized linear regression.\n",
    "- For this question, fill the NAs with 0.\n",
    "- Try different values of r from this list: [0, 0.01, 0.1, 1, 5, 10, 100].\n",
    "- Use RMSE to evaluate the model on the validation dataset. \n",
    "- Round the RMSE scores to 2 decimal digits.\n",
    "- Which r gives the best RMSE?\n",
    "\n",
    "If there are multiple options, select the smallest r.\n",
    "\n",
    "Options:\n",
    "\n",
    "- 0\n",
    "- 0.01\n",
    "- 1\n",
    "- 10\n",
    "- 100\n"
   ]
  },
  {
   "cell_type": "code",
   "execution_count": 11,
   "id": "39271b0c-ecb0-4544-8f88-d9d0d905626e",
   "metadata": {},
   "outputs": [
    {
     "name": "stdout",
     "output_type": "stream",
     "text": [
      "Alpha: 0, RMSE: 616.83\n",
      "Alpha: 0.01, RMSE: 616.83\n",
      "Alpha: 0.1, RMSE: 616.83\n",
      "Alpha: 1, RMSE: 616.83\n",
      "Alpha: 5, RMSE: 616.84\n",
      "Alpha: 10, RMSE: 616.84\n",
      "Alpha: 100, RMSE: 616.98\n",
      "\n",
      "Best alpha: 0 with RMSE: 616.83\n"
     ]
    }
   ],
   "source": [
    "from sklearn.linear_model import Ridge\n",
    "\n",
    "# Step 1: Shuffle and split the dataset\n",
    "df_shuffled = df1.sample(frac=1, random_state=42)  # Shuffle with seed 42\n",
    "train_val, test = train_test_split(df_shuffled, test_size=0.2, random_state=42)\n",
    "train, val = train_test_split(train_val, test_size=0.25, random_state=42)\n",
    "\n",
    "# X (features) and y (target) for each set\n",
    "X_train = train.drop(columns='final_price')\n",
    "y_train = train['final_price']\n",
    "X_val = val.drop(columns='final_price')\n",
    "y_val = val['final_price']\n",
    "\n",
    "# Step 2: Fill missing values with 0\n",
    "X_train_0 = X_train.fillna(0)\n",
    "X_val_0 = X_val.fillna(0)\n",
    "\n",
    "# Step 3: Train and evaluate Ridge regression with different values of alpha\n",
    "alphas = [0, 0.01, 0.1, 1, 5, 10, 100]  # List of regularization strengths\n",
    "best_rmse = float('inf')  # Initialize a high value for RMSE\n",
    "best_alpha = None  # To store the best alpha value\n",
    "\n",
    "for alpha in alphas:\n",
    "    # Initialize Ridge regression with current alpha\n",
    "    model_ridge = Ridge(alpha=alpha)\n",
    "    \n",
    "    # Train the model\n",
    "    model_ridge.fit(X_train_0, y_train)\n",
    "    \n",
    "    # Predict on the validation set\n",
    "    y_pred_val = model_ridge.predict(X_val_0)\n",
    "    \n",
    "    # Calculate RMSE\n",
    "    rmse = root_mean_squared_error(y_val, y_pred_val)\n",
    "    rmse = round(rmse, 2)  # Round RMSE to 2 decimal digits\n",
    "    \n",
    "    print(f\"Alpha: {alpha}, RMSE: {rmse}\")\n",
    "    \n",
    "    # Update the best alpha if the current RMSE is lower\n",
    "    if rmse < best_rmse:\n",
    "        best_rmse = rmse\n",
    "        best_alpha = alpha\n",
    "\n",
    "# Output the best alpha and RMSE\n",
    "print(f\"\\nBest alpha: {best_alpha} with RMSE: {best_rmse}\")\n"
   ]
  },
  {
   "cell_type": "markdown",
   "id": "b47e9221-7c89-450d-b051-6efd7690ec35",
   "metadata": {},
   "source": [
    "### Answer 4: 0"
   ]
  },
  {
   "cell_type": "markdown",
   "id": "53f2f510-c2d5-450a-ac4d-6ef85850beff",
   "metadata": {},
   "source": [
    "## Question 5\n",
    "\n",
    "- We used seed 42 for splitting the data. Let's find out how selecting the seed influences our score.\n",
    "- Try different seed values: [0, 1, 2, 3, 4, 5, 6, 7, 8, 9].\n",
    "- For each seed, do the train/validation/test split with 60%/20%/20% distribution.\n",
    "- Fill the missing values with 0 and train a model without regularization.- \n",
    "- For each seed, evaluate the model on the validation dataset and collect the RMSE scores.\n",
    "- What's the standard deviation of all the scores? To compute the standard deviation, use np.std.\n",
    "- Round the result to 3 decimal digits (round(std, 3))\n",
    "  \n",
    "What's the value of std?\n",
    "\n",
    "- 19.176\n",
    "- 29.176\n",
    "- 39.176\n",
    "- 49.176\n",
    "\n",
    "|| Note: Standard deviation shows how different the values are. If it's low, then all values are approximately the same. If it's high, the values are different. If standard deviation of scores is low, then our model is stable."
   ]
  },
  {
   "cell_type": "code",
   "execution_count": 12,
   "id": "4d84c80d-b6fc-42c4-85ce-9b3cf62d1820",
   "metadata": {},
   "outputs": [
    {
     "name": "stdout",
     "output_type": "stream",
     "text": [
      "Standard deviation of RMSE scores: 31.44\n"
     ]
    }
   ],
   "source": [
    "# List of seed values\n",
    "seeds = [0, 1, 2, 3, 4, 5, 6, 7, 8, 9]\n",
    "\n",
    "# To store RMSE values for each seed\n",
    "rmse_scores = []\n",
    "\n",
    "# Loop over each seed\n",
    "for seed in seeds:\n",
    "    # Step 1: Shuffle and split the dataset with the given seed\n",
    "    df_shuffled = df1.sample(frac=1, random_state=seed)\n",
    "    train_val, test = train_test_split(df_shuffled, test_size=0.2, random_state=seed)\n",
    "    train, val = train_test_split(train_val, test_size=0.25, random_state=seed)\n",
    "\n",
    "    # Step 2: Fill missing values with 0\n",
    "    X_train = train.drop(columns='final_price').fillna(0)\n",
    "    y_train = train['final_price']\n",
    "    X_val = val.drop(columns='final_price').fillna(0)\n",
    "    y_val = val['final_price']\n",
    "\n",
    "    # Step 3: Train a Linear Regression model (without regularization)\n",
    "    model = LinearRegression()\n",
    "    model.fit(X_train, y_train)\n",
    "\n",
    "    # Step 4: Predict on the validation set and calculate RMSE\n",
    "    y_pred_val = model.predict(X_val)\n",
    "    rmse = root_mean_squared_error(y_val, y_pred_val)  # Calculate RMSE\n",
    "    rmse_scores.append(rmse)\n",
    "\n",
    "# Step 5: Calculate the standard deviation of RMSE scores\n",
    "std_rmse = np.std(rmse_scores)\n",
    "std_rmse = round(std_rmse, 3)\n",
    "\n",
    "# Output the standard deviation\n",
    "print(f\"Standard deviation of RMSE scores: {std_rmse}\")\n"
   ]
  },
  {
   "cell_type": "markdown",
   "id": "3284df5f-daa5-489e-aa12-d8f14e78957a",
   "metadata": {},
   "source": [
    "### Answer 5: 29.176 (nearest of 31.44)"
   ]
  },
  {
   "cell_type": "markdown",
   "id": "d8899af4-9e24-41d5-8ddf-a9ff819e2ebc",
   "metadata": {},
   "source": [
    "## Question 6\n",
    "\n",
    "- Split the dataset like previously, use seed 9.\n",
    "- Combine train and validation datasets. \n",
    "- Fill the missing values with 0 and train a model with r=0.001.\n",
    "- What's the RMSE on the test dataset?\n",
    "\n",
    "Options:\n",
    "\n",
    "- 598.60\n",
    "- 608.60\n",
    "- 618.60\n",
    "- 628.60"
   ]
  },
  {
   "cell_type": "code",
   "execution_count": 13,
   "id": "7c0b4192-132a-4d89-bb47-1c6dd1fbaeea",
   "metadata": {},
   "outputs": [
    {
     "name": "stdout",
     "output_type": "stream",
     "text": [
      "RMSE on the test dataset: 575.95\n"
     ]
    }
   ],
   "source": [
    "# Step 1: Shuffle and split the dataset using seed 9\n",
    "df_shuffled = df1.sample(frac=1, random_state=9)\n",
    "train_val, test = train_test_split(df_shuffled, test_size=0.2, random_state=9)\n",
    "\n",
    "# Combine train and validation sets\n",
    "X_train_val = train_val.drop(columns='final_price')\n",
    "y_train_val = train_val['final_price']\n",
    "X_test = test.drop(columns='final_price')\n",
    "y_test = test['final_price']\n",
    "\n",
    "# Step 2: Fill missing values with 0\n",
    "X_train_val_0 = X_train_val.fillna(0)\n",
    "X_test_0 = X_test.fillna(0)\n",
    "\n",
    "# Step 3: Train the Ridge regression model with r=0.001 (alpha=0.001)\n",
    "model_ridge = Ridge(alpha=0.001)\n",
    "model_ridge.fit(X_train_val_0, y_train_val)\n",
    "\n",
    "# Step 4: Predict on the test set and calculate RMSE\n",
    "y_pred_test = model_ridge.predict(X_test_0)\n",
    "rmse_test = root_mean_squared_error(y_test, y_pred_test)  # RMSE\n",
    "\n",
    "# Round the RMSE to 2 decimal places\n",
    "rmse_test = round(rmse_test, 2)\n",
    "\n",
    "# Output the RMSE\n",
    "print(f\"RMSE on the test dataset: {rmse_test}\")\n"
   ]
  },
  {
   "cell_type": "markdown",
   "id": "97441a89-8f12-4b87-baf9-3776222eaf73",
   "metadata": {},
   "source": [
    "### Answer 6: 598.60 (nearest of 575.95)"
   ]
  },
  {
   "cell_type": "code",
   "execution_count": null,
   "id": "e74aa383-773a-4226-be65-7b6d5644bd73",
   "metadata": {},
   "outputs": [],
   "source": []
  }
 ],
 "metadata": {
  "kernelspec": {
   "display_name": "Python 3 (ipykernel)",
   "language": "python",
   "name": "python3"
  },
  "language_info": {
   "codemirror_mode": {
    "name": "ipython",
    "version": 3
   },
   "file_extension": ".py",
   "mimetype": "text/x-python",
   "name": "python",
   "nbconvert_exporter": "python",
   "pygments_lexer": "ipython3",
   "version": "3.11.9"
  }
 },
 "nbformat": 4,
 "nbformat_minor": 5
}
