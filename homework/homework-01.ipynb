{
 "cells": [
  {
   "cell_type": "markdown",
   "id": "88b29307-9a8f-4259-9d54-ec0a092eb9a7",
   "metadata": {},
   "source": [
    "#### Machine Learning Zoomcamp\n",
    "# Homework Solution of Module-01 (Introduction to Machine Learning )"
   ]
  },
  {
   "cell_type": "code",
   "execution_count": 1,
   "id": "d506597d-5acc-4158-98be-0a6876ab3172",
   "metadata": {},
   "outputs": [
    {
     "data": {
      "text/plain": [
       "'2.2.2'"
      ]
     },
     "execution_count": 1,
     "metadata": {},
     "output_type": "execute_result"
    }
   ],
   "source": [
    "import pandas as pd\n",
    "pd.__version__"
   ]
  },
  {
   "cell_type": "code",
   "execution_count": null,
   "id": "2d5aac40-fe1f-4cbd-aa8a-547a1b2c4cd5",
   "metadata": {},
   "outputs": [],
   "source": []
  },
  {
   "cell_type": "markdown",
   "id": "f6fce5e0-0f32-4424-8e1b-4b9e8a0f8d86",
   "metadata": {},
   "source": [
    "## Q2. Records count\n",
    "\n",
    "Dataset : wget https://raw.githubusercontent.com/alexeygrigorev/datasets/master/laptops.csv\n",
    "\n",
    "### How many records are in the dataset?\n",
    "\n",
    "- 12\n",
    "- 1000\n",
    "- 2160\n",
    "- 12160"
   ]
  },
  {
   "cell_type": "code",
   "execution_count": 2,
   "id": "4ef94e1e-c32e-48e6-b175-aed5ac5d56f0",
   "metadata": {},
   "outputs": [
    {
     "data": {
      "text/plain": [
       "2160"
      ]
     },
     "execution_count": 2,
     "metadata": {},
     "output_type": "execute_result"
    }
   ],
   "source": [
    "# Read file CSV\n",
    "data = pd.read_csv('../dataset/laptops.csv')\n",
    "len(data)"
   ]
  },
  {
   "cell_type": "code",
   "execution_count": 3,
   "id": "5296b57e-1173-41d3-8545-6fcb102ca858",
   "metadata": {
    "scrolled": true
   },
   "outputs": [
    {
     "name": "stdout",
     "output_type": "stream",
     "text": [
      "                                                 Laptop       Status   Brand  \\\n",
      "0     ASUS ExpertBook B1 B1502CBA-EJ0436X Intel Core...          New    Asus   \n",
      "1     Alurin Go Start Intel Celeron N4020/8GB/256GB ...          New  Alurin   \n",
      "2     ASUS ExpertBook B1 B1502CBA-EJ0424X Intel Core...          New    Asus   \n",
      "3     MSI Katana GF66 12UC-082XES Intel Core i7-1270...          New     MSI   \n",
      "4     HP 15S-FQ5085NS Intel Core i5-1235U/16GB/512GB...          New      HP   \n",
      "...                                                 ...          ...     ...   \n",
      "2155  Razer Blade 17 FHD 360Hz Intel Core i7-11800H/...  Refurbished   Razer   \n",
      "2156  Razer Blade 17 FHD 360Hz Intel Core i7-11800H/...  Refurbished   Razer   \n",
      "2157  Razer Blade 17 FHD 360Hz Intel Core i7-11800H/...  Refurbished   Razer   \n",
      "2158  Razer Book 13 Intel Evo Core i7-1165G7/16GB/1T...  Refurbished   Razer   \n",
      "2159  Razer Book FHD+ Intel Evo Core i7-1165G7/16GB/...  Refurbished   Razer   \n",
      "\n",
      "           Model                CPU  RAM  Storage Storage type       GPU  \\\n",
      "0     ExpertBook      Intel Core i5    8      512          SSD       NaN   \n",
      "1             Go      Intel Celeron    8      256          SSD       NaN   \n",
      "2     ExpertBook      Intel Core i3    8      256          SSD       NaN   \n",
      "3         Katana      Intel Core i7   16     1000          SSD  RTX 3050   \n",
      "4            15S      Intel Core i5   16      512          SSD       NaN   \n",
      "...          ...                ...  ...      ...          ...       ...   \n",
      "2155       Blade      Intel Core i7   16     1000          SSD  RTX 3060   \n",
      "2156       Blade      Intel Core i7   16     1000          SSD  RTX 3070   \n",
      "2157       Blade      Intel Core i7   32     1000          SSD  RTX 3080   \n",
      "2158        Book  Intel Evo Core i7   16     1000          SSD       NaN   \n",
      "2159        Book  Intel Evo Core i7   16      256          SSD       NaN   \n",
      "\n",
      "      Screen Touch  Final Price  \n",
      "0       15.6    No      1009.00  \n",
      "1       15.6    No       299.00  \n",
      "2       15.6    No       789.00  \n",
      "3       15.6    No      1199.00  \n",
      "4       15.6    No       669.01  \n",
      "...      ...   ...          ...  \n",
      "2155    17.3    No      2699.99  \n",
      "2156    17.3    No      2899.99  \n",
      "2157    17.3    No      3399.99  \n",
      "2158    13.4   Yes      1899.99  \n",
      "2159    13.4   Yes      1699.99  \n",
      "\n",
      "[2160 rows x 12 columns]\n"
     ]
    }
   ],
   "source": [
    "# Print data\n",
    "print(data)"
   ]
  },
  {
   "cell_type": "code",
   "execution_count": 4,
   "id": "d3880467-bef8-41e4-bdcc-fcea1a3b1a53",
   "metadata": {},
   "outputs": [
    {
     "data": {
      "text/html": [
       "<div>\n",
       "<style scoped>\n",
       "    .dataframe tbody tr th:only-of-type {\n",
       "        vertical-align: middle;\n",
       "    }\n",
       "\n",
       "    .dataframe tbody tr th {\n",
       "        vertical-align: top;\n",
       "    }\n",
       "\n",
       "    .dataframe thead th {\n",
       "        text-align: right;\n",
       "    }\n",
       "</style>\n",
       "<table border=\"1\" class=\"dataframe\">\n",
       "  <thead>\n",
       "    <tr style=\"text-align: right;\">\n",
       "      <th></th>\n",
       "      <th>Laptop</th>\n",
       "      <th>Status</th>\n",
       "      <th>Brand</th>\n",
       "      <th>Model</th>\n",
       "      <th>CPU</th>\n",
       "      <th>RAM</th>\n",
       "      <th>Storage</th>\n",
       "      <th>Storage type</th>\n",
       "      <th>GPU</th>\n",
       "      <th>Screen</th>\n",
       "      <th>Touch</th>\n",
       "      <th>Final Price</th>\n",
       "    </tr>\n",
       "  </thead>\n",
       "  <tbody>\n",
       "    <tr>\n",
       "      <th>0</th>\n",
       "      <td>ASUS ExpertBook B1 B1502CBA-EJ0436X Intel Core...</td>\n",
       "      <td>New</td>\n",
       "      <td>Asus</td>\n",
       "      <td>ExpertBook</td>\n",
       "      <td>Intel Core i5</td>\n",
       "      <td>8</td>\n",
       "      <td>512</td>\n",
       "      <td>SSD</td>\n",
       "      <td>NaN</td>\n",
       "      <td>15.6</td>\n",
       "      <td>No</td>\n",
       "      <td>1009.00</td>\n",
       "    </tr>\n",
       "    <tr>\n",
       "      <th>1</th>\n",
       "      <td>Alurin Go Start Intel Celeron N4020/8GB/256GB ...</td>\n",
       "      <td>New</td>\n",
       "      <td>Alurin</td>\n",
       "      <td>Go</td>\n",
       "      <td>Intel Celeron</td>\n",
       "      <td>8</td>\n",
       "      <td>256</td>\n",
       "      <td>SSD</td>\n",
       "      <td>NaN</td>\n",
       "      <td>15.6</td>\n",
       "      <td>No</td>\n",
       "      <td>299.00</td>\n",
       "    </tr>\n",
       "    <tr>\n",
       "      <th>2</th>\n",
       "      <td>ASUS ExpertBook B1 B1502CBA-EJ0424X Intel Core...</td>\n",
       "      <td>New</td>\n",
       "      <td>Asus</td>\n",
       "      <td>ExpertBook</td>\n",
       "      <td>Intel Core i3</td>\n",
       "      <td>8</td>\n",
       "      <td>256</td>\n",
       "      <td>SSD</td>\n",
       "      <td>NaN</td>\n",
       "      <td>15.6</td>\n",
       "      <td>No</td>\n",
       "      <td>789.00</td>\n",
       "    </tr>\n",
       "    <tr>\n",
       "      <th>3</th>\n",
       "      <td>MSI Katana GF66 12UC-082XES Intel Core i7-1270...</td>\n",
       "      <td>New</td>\n",
       "      <td>MSI</td>\n",
       "      <td>Katana</td>\n",
       "      <td>Intel Core i7</td>\n",
       "      <td>16</td>\n",
       "      <td>1000</td>\n",
       "      <td>SSD</td>\n",
       "      <td>RTX 3050</td>\n",
       "      <td>15.6</td>\n",
       "      <td>No</td>\n",
       "      <td>1199.00</td>\n",
       "    </tr>\n",
       "    <tr>\n",
       "      <th>4</th>\n",
       "      <td>HP 15S-FQ5085NS Intel Core i5-1235U/16GB/512GB...</td>\n",
       "      <td>New</td>\n",
       "      <td>HP</td>\n",
       "      <td>15S</td>\n",
       "      <td>Intel Core i5</td>\n",
       "      <td>16</td>\n",
       "      <td>512</td>\n",
       "      <td>SSD</td>\n",
       "      <td>NaN</td>\n",
       "      <td>15.6</td>\n",
       "      <td>No</td>\n",
       "      <td>669.01</td>\n",
       "    </tr>\n",
       "    <tr>\n",
       "      <th>...</th>\n",
       "      <td>...</td>\n",
       "      <td>...</td>\n",
       "      <td>...</td>\n",
       "      <td>...</td>\n",
       "      <td>...</td>\n",
       "      <td>...</td>\n",
       "      <td>...</td>\n",
       "      <td>...</td>\n",
       "      <td>...</td>\n",
       "      <td>...</td>\n",
       "      <td>...</td>\n",
       "      <td>...</td>\n",
       "    </tr>\n",
       "    <tr>\n",
       "      <th>2155</th>\n",
       "      <td>Razer Blade 17 FHD 360Hz Intel Core i7-11800H/...</td>\n",
       "      <td>Refurbished</td>\n",
       "      <td>Razer</td>\n",
       "      <td>Blade</td>\n",
       "      <td>Intel Core i7</td>\n",
       "      <td>16</td>\n",
       "      <td>1000</td>\n",
       "      <td>SSD</td>\n",
       "      <td>RTX 3060</td>\n",
       "      <td>17.3</td>\n",
       "      <td>No</td>\n",
       "      <td>2699.99</td>\n",
       "    </tr>\n",
       "    <tr>\n",
       "      <th>2156</th>\n",
       "      <td>Razer Blade 17 FHD 360Hz Intel Core i7-11800H/...</td>\n",
       "      <td>Refurbished</td>\n",
       "      <td>Razer</td>\n",
       "      <td>Blade</td>\n",
       "      <td>Intel Core i7</td>\n",
       "      <td>16</td>\n",
       "      <td>1000</td>\n",
       "      <td>SSD</td>\n",
       "      <td>RTX 3070</td>\n",
       "      <td>17.3</td>\n",
       "      <td>No</td>\n",
       "      <td>2899.99</td>\n",
       "    </tr>\n",
       "    <tr>\n",
       "      <th>2157</th>\n",
       "      <td>Razer Blade 17 FHD 360Hz Intel Core i7-11800H/...</td>\n",
       "      <td>Refurbished</td>\n",
       "      <td>Razer</td>\n",
       "      <td>Blade</td>\n",
       "      <td>Intel Core i7</td>\n",
       "      <td>32</td>\n",
       "      <td>1000</td>\n",
       "      <td>SSD</td>\n",
       "      <td>RTX 3080</td>\n",
       "      <td>17.3</td>\n",
       "      <td>No</td>\n",
       "      <td>3399.99</td>\n",
       "    </tr>\n",
       "    <tr>\n",
       "      <th>2158</th>\n",
       "      <td>Razer Book 13 Intel Evo Core i7-1165G7/16GB/1T...</td>\n",
       "      <td>Refurbished</td>\n",
       "      <td>Razer</td>\n",
       "      <td>Book</td>\n",
       "      <td>Intel Evo Core i7</td>\n",
       "      <td>16</td>\n",
       "      <td>1000</td>\n",
       "      <td>SSD</td>\n",
       "      <td>NaN</td>\n",
       "      <td>13.4</td>\n",
       "      <td>Yes</td>\n",
       "      <td>1899.99</td>\n",
       "    </tr>\n",
       "    <tr>\n",
       "      <th>2159</th>\n",
       "      <td>Razer Book FHD+ Intel Evo Core i7-1165G7/16GB/...</td>\n",
       "      <td>Refurbished</td>\n",
       "      <td>Razer</td>\n",
       "      <td>Book</td>\n",
       "      <td>Intel Evo Core i7</td>\n",
       "      <td>16</td>\n",
       "      <td>256</td>\n",
       "      <td>SSD</td>\n",
       "      <td>NaN</td>\n",
       "      <td>13.4</td>\n",
       "      <td>Yes</td>\n",
       "      <td>1699.99</td>\n",
       "    </tr>\n",
       "  </tbody>\n",
       "</table>\n",
       "<p>2160 rows × 12 columns</p>\n",
       "</div>"
      ],
      "text/plain": [
       "                                                 Laptop       Status   Brand  \\\n",
       "0     ASUS ExpertBook B1 B1502CBA-EJ0436X Intel Core...          New    Asus   \n",
       "1     Alurin Go Start Intel Celeron N4020/8GB/256GB ...          New  Alurin   \n",
       "2     ASUS ExpertBook B1 B1502CBA-EJ0424X Intel Core...          New    Asus   \n",
       "3     MSI Katana GF66 12UC-082XES Intel Core i7-1270...          New     MSI   \n",
       "4     HP 15S-FQ5085NS Intel Core i5-1235U/16GB/512GB...          New      HP   \n",
       "...                                                 ...          ...     ...   \n",
       "2155  Razer Blade 17 FHD 360Hz Intel Core i7-11800H/...  Refurbished   Razer   \n",
       "2156  Razer Blade 17 FHD 360Hz Intel Core i7-11800H/...  Refurbished   Razer   \n",
       "2157  Razer Blade 17 FHD 360Hz Intel Core i7-11800H/...  Refurbished   Razer   \n",
       "2158  Razer Book 13 Intel Evo Core i7-1165G7/16GB/1T...  Refurbished   Razer   \n",
       "2159  Razer Book FHD+ Intel Evo Core i7-1165G7/16GB/...  Refurbished   Razer   \n",
       "\n",
       "           Model                CPU  RAM  Storage Storage type       GPU  \\\n",
       "0     ExpertBook      Intel Core i5    8      512          SSD       NaN   \n",
       "1             Go      Intel Celeron    8      256          SSD       NaN   \n",
       "2     ExpertBook      Intel Core i3    8      256          SSD       NaN   \n",
       "3         Katana      Intel Core i7   16     1000          SSD  RTX 3050   \n",
       "4            15S      Intel Core i5   16      512          SSD       NaN   \n",
       "...          ...                ...  ...      ...          ...       ...   \n",
       "2155       Blade      Intel Core i7   16     1000          SSD  RTX 3060   \n",
       "2156       Blade      Intel Core i7   16     1000          SSD  RTX 3070   \n",
       "2157       Blade      Intel Core i7   32     1000          SSD  RTX 3080   \n",
       "2158        Book  Intel Evo Core i7   16     1000          SSD       NaN   \n",
       "2159        Book  Intel Evo Core i7   16      256          SSD       NaN   \n",
       "\n",
       "      Screen Touch  Final Price  \n",
       "0       15.6    No      1009.00  \n",
       "1       15.6    No       299.00  \n",
       "2       15.6    No       789.00  \n",
       "3       15.6    No      1199.00  \n",
       "4       15.6    No       669.01  \n",
       "...      ...   ...          ...  \n",
       "2155    17.3    No      2699.99  \n",
       "2156    17.3    No      2899.99  \n",
       "2157    17.3    No      3399.99  \n",
       "2158    13.4   Yes      1899.99  \n",
       "2159    13.4   Yes      1699.99  \n",
       "\n",
       "[2160 rows x 12 columns]"
      ]
     },
     "execution_count": 4,
     "metadata": {},
     "output_type": "execute_result"
    }
   ],
   "source": [
    "df = pd.DataFrame(data)\n",
    "df"
   ]
  },
  {
   "cell_type": "markdown",
   "id": "e2fd126c-dbff-49df-af25-361ae0f778db",
   "metadata": {},
   "source": [
    "### Answer : 2160 "
   ]
  },
  {
   "cell_type": "code",
   "execution_count": null,
   "id": "4c187d36-5ad8-4f40-affd-d7b747396dc2",
   "metadata": {},
   "outputs": [],
   "source": []
  },
  {
   "cell_type": "markdown",
   "id": "41356ac0-b531-47e3-ab42-929d38076927",
   "metadata": {},
   "source": [
    "## Q3. Laptop brands\n",
    "\n",
    "### How many laptop brands are presented in the dataset?\n",
    "\n",
    "- 12\n",
    "- 27\n",
    "- 28\n",
    "- 2160"
   ]
  },
  {
   "cell_type": "code",
   "execution_count": 5,
   "id": "0d9922d2-e86b-49e0-ad6b-ba60688db38f",
   "metadata": {},
   "outputs": [
    {
     "name": "stdout",
     "output_type": "stream",
     "text": [
      "Number of laptop brands: 27\n"
     ]
    }
   ],
   "source": [
    "# distinct value of 'Brand'\n",
    "distinct_count = data['Brand'].nunique()\n",
    "\n",
    "print(\"Number of laptop brands:\", distinct_count)"
   ]
  },
  {
   "cell_type": "markdown",
   "id": "1450a15a-b8c3-4061-8716-3c1d52721cfc",
   "metadata": {},
   "source": [
    "### Answer : 27"
   ]
  },
  {
   "cell_type": "code",
   "execution_count": null,
   "id": "d76a28e0-cb08-4cd0-a761-8eeecc37a30a",
   "metadata": {},
   "outputs": [],
   "source": []
  },
  {
   "cell_type": "markdown",
   "id": "0f34a80e-8163-4e16-8042-08483c731e6e",
   "metadata": {},
   "source": [
    "## Q4. Missing values\n",
    "\n",
    "### How many columns in the dataset have missing values?\n",
    "\n",
    "- 0\n",
    "- 1\n",
    "- 2\n",
    "- 3"
   ]
  },
  {
   "cell_type": "code",
   "execution_count": 6,
   "id": "4a2d716b-eda3-46b6-befd-05857c1a29b2",
   "metadata": {},
   "outputs": [
    {
     "name": "stdout",
     "output_type": "stream",
     "text": [
      "Number of columns which have missing values: 3\n"
     ]
    }
   ],
   "source": [
    "# Missing value\n",
    "missing_values_per_column = data.isna().sum()\n",
    "\n",
    "# Number of columns which have missing values\n",
    "columns_with_missing_values = missing_values_per_column[missing_values_per_column > 0].count()\n",
    "\n",
    "print(\"Number of columns which have missing values:\", columns_with_missing_values)"
   ]
  },
  {
   "cell_type": "markdown",
   "id": "9997ac36-891d-4c33-852e-174b28093904",
   "metadata": {},
   "source": [
    "### Answer : 3"
   ]
  },
  {
   "cell_type": "code",
   "execution_count": null,
   "id": "503e18c5-4be8-4ca7-998f-3a032ccef6db",
   "metadata": {},
   "outputs": [],
   "source": []
  },
  {
   "cell_type": "markdown",
   "id": "f28cafb1-2884-44aa-8ce2-e27bcefeaab3",
   "metadata": {},
   "source": [
    "## Q5. Maximum final price\n",
    "\n",
    "### What's the maximum final price of Dell notebooks in the dataset?\n",
    "\n",
    "- 869\n",
    "- 3691\n",
    "- 3849\n",
    "- 3936"
   ]
  },
  {
   "cell_type": "code",
   "execution_count": 7,
   "id": "b7159bbf-3324-44df-89eb-64557bee366c",
   "metadata": {},
   "outputs": [
    {
     "name": "stdout",
     "output_type": "stream",
     "text": [
      "Max price of Dell notebooks: 3936\n"
     ]
    }
   ],
   "source": [
    "dell_notebooks = data[data['Brand'] == 'Dell']\n",
    "\n",
    "# Find max price of \"Final Price\" column\n",
    "max_final_price = dell_notebooks['Final Price'].max()\n",
    "\n",
    "print(\"Max price of Dell notebooks:\", round(max_final_price))"
   ]
  },
  {
   "cell_type": "markdown",
   "id": "69512b89-0247-4bc7-92c3-b827e6976571",
   "metadata": {},
   "source": [
    "### Answer : 3936"
   ]
  },
  {
   "cell_type": "code",
   "execution_count": null,
   "id": "c8b90977-473b-44f3-a511-800729a9061b",
   "metadata": {},
   "outputs": [],
   "source": []
  },
  {
   "cell_type": "markdown",
   "id": "f204135f-16ee-435a-bdb3-a8f4495d451a",
   "metadata": {},
   "source": [
    "## Q6. Median value of Screen\n",
    "\n",
    "1. Find the median value of Screen column in the dataset.\n",
    "2. Next, calculate the most frequent value of the same Screen column.\n",
    "3. Use fillna method to fill the missing values in Screen column with the most frequent value from the previous step.\n",
    "4. Now, calculate the median value of Screen once again.\n",
    "\n",
    "Has it changed?\n",
    "\n",
    "|| Hint: refer to existing mode and median functions to complete the task.\n",
    "\n",
    "- Yes\n",
    "- No"
   ]
  },
  {
   "cell_type": "code",
   "execution_count": 8,
   "id": "7d4dae4d-30ed-400e-b8b8-5d1438fbb812",
   "metadata": {},
   "outputs": [
    {
     "name": "stdout",
     "output_type": "stream",
     "text": [
      "Median value of the Screen column: 15.6\n",
      "Most frequent value of the Screen column: 15.6\n",
      "Median value of the Screen column after filling missing values: 15.6\n",
      "Median has not changed after filling missing values.\n"
     ]
    }
   ],
   "source": [
    "import pandas as pd\n",
    "\n",
    "# Read the CSV file\n",
    "data = pd.read_csv('../dataset/laptops.csv')\n",
    "\n",
    "# Calculate the median of the 'Screen' column\n",
    "median_screen = data['Screen'].median()\n",
    "print(\"Median value of the Screen column:\", median_screen)\n",
    "\n",
    "# Calculate the most frequent value (mode) of the 'Screen' column\n",
    "most_frequent_screen = data['Screen'].mode()[0]\n",
    "print(\"Most frequent value of the Screen column:\", most_frequent_screen)\n",
    "\n",
    "# Fill missing values in the 'Screen' column with the most frequent value\n",
    "data['Screen'] = data['Screen'].fillna(most_frequent_screen)\n",
    "\n",
    "# Calculate the median of the 'Screen' column again after filling missing values\n",
    "new_median_screen = data['Screen'].median()\n",
    "print(\"Median value of the Screen column after filling missing values:\", new_median_screen)\n",
    "\n",
    "# Check if the median has changed\n",
    "has_changed = median_screen != new_median_screen\n",
    "\n",
    "if has_changed:\n",
    "    print(\"Median has changed after filling missing values.\")\n",
    "else:\n",
    "    print(\"Median has not changed after filling missing values.\")\n"
   ]
  },
  {
   "cell_type": "markdown",
   "id": "c7d146c2-8fbb-414e-9966-fe8229f17d5c",
   "metadata": {},
   "source": [
    "### Answer : No"
   ]
  },
  {
   "cell_type": "code",
   "execution_count": null,
   "id": "5a348ca4-c528-47f9-ba31-525e4b7a231b",
   "metadata": {},
   "outputs": [],
   "source": []
  },
  {
   "cell_type": "markdown",
   "id": "fb130f7d-54ff-4012-8850-10ce97913131",
   "metadata": {},
   "source": [
    "## Q7. Sum of weights\n",
    "\n",
    "1. Select all the \"Innjoo\" laptops from the dataset.\n",
    "2. Select only columns RAM, Storage, Screen.\n",
    "3. Get the underlying NumPy array. Let's call it X.\n",
    "4. Compute matrix-matrix multiplication between the transpose of X and X. To get the transpose, use X.T. Let's call the result XTX.\n",
    "5. Compute the inverse of XTX.\n",
    "6. Create an array y with values [1100, 1300, 800, 900, 1000, 1100].\n",
    "7. Multiply the inverse of XTX with the transpose of X, and then multiply the result by y. Call the result w.\n",
    "8. What's the sum of all the elements of the result?\n",
    "\n",
    "|| Note: You just implemented linear regression. We'll talk about it in the next lesson.\n",
    "\n",
    "- 0.43\n",
    "- 45.29\n",
    "- 45.58\n",
    "- 91.30"
   ]
  },
  {
   "cell_type": "code",
   "execution_count": 9,
   "id": "2b9aa358-bc11-4d0a-afa7-9af075f76325",
   "metadata": {},
   "outputs": [
    {
     "name": "stdout",
     "output_type": "stream",
     "text": [
      "Sum of all elements of the result: 91.3\n"
     ]
    }
   ],
   "source": [
    "import pandas as pd\n",
    "import numpy as np\n",
    "\n",
    "# Read the CSV file\n",
    "data = pd.read_csv('../dataset/laptops.csv')\n",
    "\n",
    "# Select all \"Innjoo\" laptops\n",
    "innjoo_laptops = data[data['Brand'] == 'Innjoo']\n",
    "\n",
    "# Select only the columns RAM, Storage, and Screen, and convert them to numeric\n",
    "X = innjoo_laptops[['RAM', 'Storage', 'Screen']].apply(pd.to_numeric, errors='coerce').values\n",
    "\n",
    "# Compute the transpose of X and then the matrix multiplication XTX\n",
    "XTX = np.dot(X.T, X)\n",
    "\n",
    "# Compute the inverse of XTX\n",
    "XTX_inv = np.linalg.inv(XTX)\n",
    "\n",
    "# Create array y with given values\n",
    "y = np.array([1100, 1300, 800, 900, 1000, 1100])\n",
    "\n",
    "# Compute the result w\n",
    "w = np.dot(XTX_inv, np.dot(X.T, y))\n",
    "\n",
    "# Calculate the sum of all elements in w\n",
    "result_sum = np.sum(w)\n",
    "\n",
    "print(\"Sum of all elements of the result:\", round(result_sum, 2))\n"
   ]
  },
  {
   "cell_type": "markdown",
   "id": "a9960530-4829-4fa7-99ed-63de9ccba883",
   "metadata": {},
   "source": [
    "### Answer : 91.30"
   ]
  },
  {
   "cell_type": "code",
   "execution_count": null,
   "id": "2c20e210-d7c5-4f1f-9d60-d0c1f470f76d",
   "metadata": {},
   "outputs": [],
   "source": []
  }
 ],
 "metadata": {
  "kernelspec": {
   "display_name": "Python 3 (ipykernel)",
   "language": "python",
   "name": "python3"
  },
  "language_info": {
   "codemirror_mode": {
    "name": "ipython",
    "version": 3
   },
   "file_extension": ".py",
   "mimetype": "text/x-python",
   "name": "python",
   "nbconvert_exporter": "python",
   "pygments_lexer": "ipython3",
   "version": "3.11.9"
  }
 },
 "nbformat": 4,
 "nbformat_minor": 5
}
